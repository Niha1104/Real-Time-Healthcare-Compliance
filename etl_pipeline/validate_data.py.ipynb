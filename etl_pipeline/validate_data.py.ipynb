{
 "cells": [
  {
   "cell_type": "code",
   "execution_count": 1,
   "id": "1709aa2f",
   "metadata": {},
   "outputs": [],
   "source": [
    "import pandas as pd"
   ]
  },
  {
   "cell_type": "code",
   "execution_count": 2,
   "id": "82b97c18",
   "metadata": {},
   "outputs": [],
   "source": [
    "df = pd.read_csv(\"clean_data.csv\")"
   ]
  },
  {
   "cell_type": "code",
   "execution_count": 3,
   "id": "712a8834",
   "metadata": {},
   "outputs": [],
   "source": [
    "missing_values = df.isnull().sum()\n",
    "duplicates = df.duplicated().sum()\n",
    "data_types = df.dtypes"
   ]
  },
  {
   "cell_type": "code",
   "execution_count": 4,
   "id": "ab357936",
   "metadata": {},
   "outputs": [
    {
     "name": "stdout",
     "output_type": "stream",
     "text": [
      "Missing Values:\n",
      " patient_id    0\n",
      "visit_date    0\n",
      "heart_rate    0\n",
      "systolic      0\n",
      "diastolic     0\n",
      "dtype: int64\n"
     ]
    }
   ],
   "source": [
    "print(\"Missing Values:\\n\", missing_values)"
   ]
  },
  {
   "cell_type": "code",
   "execution_count": 5,
   "id": "feb3b3b3",
   "metadata": {},
   "outputs": [
    {
     "name": "stdout",
     "output_type": "stream",
     "text": [
      "\n",
      "Duplicate Rows: 0\n"
     ]
    }
   ],
   "source": [
    "print(\"\\nDuplicate Rows:\", duplicates)"
   ]
  },
  {
   "cell_type": "code",
   "execution_count": 6,
   "id": "a9e2ee22",
   "metadata": {},
   "outputs": [
    {
     "name": "stdout",
     "output_type": "stream",
     "text": [
      "\n",
      "Data Types:\n",
      " patient_id     int64\n",
      "visit_date    object\n",
      "heart_rate     int64\n",
      "systolic       int64\n",
      "diastolic      int64\n",
      "dtype: object\n"
     ]
    }
   ],
   "source": [
    "print(\"\\nData Types:\\n\", data_types)"
   ]
  },
  {
   "cell_type": "code",
   "execution_count": 7,
   "id": "917088c6",
   "metadata": {},
   "outputs": [
    {
     "ename": "SyntaxError",
     "evalue": "incomplete input (3798732829.py, line 1)",
     "output_type": "error",
     "traceback": [
      "\u001b[1;36m  Cell \u001b[1;32mIn[7], line 1\u001b[1;36m\u001b[0m\n\u001b[1;33m    with open(\"validation_report.txt\", \"w\") as f:\u001b[0m\n\u001b[1;37m                                                 ^\u001b[0m\n\u001b[1;31mSyntaxError\u001b[0m\u001b[1;31m:\u001b[0m incomplete input\n"
     ]
    }
   ],
   "source": [
    "with open(\"validation_report.txt\", \"w\") as f:"
   ]
  },
  {
   "cell_type": "markdown",
   "id": "9aa5501c",
   "metadata": {},
   "source": [
    "with open(\"validation_report.txt\", \"w\") as f:\n",
    "    f.write(\"Missing Values:\\n\")\n",
    "    f.write(str(missing_values))\n",
    "    f.write(\"\\n\\nDuplicate Rows: \")\n",
    "    f.write(str(duplicates))\n",
    "    f.write(\"\\n\\nData Types:\\n\")\n",
    "    f.write(str(data_types))"
   ]
  },
  {
   "cell_type": "code",
   "execution_count": 8,
   "id": "e296f212",
   "metadata": {},
   "outputs": [
    {
     "name": "stdout",
     "output_type": "stream",
     "text": [
      "✅ Validation completed and report saved as validation_report.txt\n"
     ]
    }
   ],
   "source": [
    "print(\"✅ Validation completed and report saved as validation_report.txt\")"
   ]
  },
  {
   "cell_type": "code",
   "execution_count": null,
   "id": "72a3f81f",
   "metadata": {},
   "outputs": [],
   "source": []
  }
 ],
 "metadata": {
  "kernelspec": {
   "display_name": "Python 3 (ipykernel)",
   "language": "python",
   "name": "python3"
  },
  "language_info": {
   "codemirror_mode": {
    "name": "ipython",
    "version": 3
   },
   "file_extension": ".py",
   "mimetype": "text/x-python",
   "name": "python",
   "nbconvert_exporter": "python",
   "pygments_lexer": "ipython3",
   "version": "3.10.9"
  }
 },
 "nbformat": 4,
 "nbformat_minor": 5
}
